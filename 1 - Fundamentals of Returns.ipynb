{
 "cells": [
  {
   "cell_type": "markdown",
   "id": "b995f34a",
   "metadata": {},
   "source": [
    "# Returns\n",
    "Return from time $t$ to time ${t+1}$ is given by:\n",
    "\n",
    "$$ R_{t,t+1} = \\frac{P_{t+1}}{P_{t}} - 1 $$"
   ]
  },
  {
   "cell_type": "code",
   "execution_count": 1,
   "id": "9307a1ed",
   "metadata": {},
   "outputs": [
    {
     "data": {
      "text/html": [
       "<div>\n",
       "<style scoped>\n",
       "    .dataframe tbody tr th:only-of-type {\n",
       "        vertical-align: middle;\n",
       "    }\n",
       "\n",
       "    .dataframe tbody tr th {\n",
       "        vertical-align: top;\n",
       "    }\n",
       "\n",
       "    .dataframe thead th {\n",
       "        text-align: right;\n",
       "    }\n",
       "</style>\n",
       "<table border=\"1\" class=\"dataframe\">\n",
       "  <thead>\n",
       "    <tr style=\"text-align: right;\">\n",
       "      <th></th>\n",
       "      <th>ITSA4.SA</th>\n",
       "      <th>PETR4.SA</th>\n",
       "      <th>VALE3.SA</th>\n",
       "    </tr>\n",
       "    <tr>\n",
       "      <th>Date</th>\n",
       "      <th></th>\n",
       "      <th></th>\n",
       "      <th></th>\n",
       "    </tr>\n",
       "  </thead>\n",
       "  <tbody>\n",
       "    <tr>\n",
       "      <th>2015-01-02</th>\n",
       "      <td>6.828494</td>\n",
       "      <td>9.36</td>\n",
       "      <td>21.280001</td>\n",
       "    </tr>\n",
       "    <tr>\n",
       "      <th>2015-01-05</th>\n",
       "      <td>6.850834</td>\n",
       "      <td>8.56</td>\n",
       "      <td>20.959999</td>\n",
       "    </tr>\n",
       "    <tr>\n",
       "      <th>2015-01-06</th>\n",
       "      <td>6.902959</td>\n",
       "      <td>8.28</td>\n",
       "      <td>21.799999</td>\n",
       "    </tr>\n",
       "    <tr>\n",
       "      <th>2015-01-07</th>\n",
       "      <td>7.163589</td>\n",
       "      <td>8.67</td>\n",
       "      <td>22.600000</td>\n",
       "    </tr>\n",
       "    <tr>\n",
       "      <th>2015-01-08</th>\n",
       "      <td>7.238055</td>\n",
       "      <td>9.23</td>\n",
       "      <td>22.840000</td>\n",
       "    </tr>\n",
       "    <tr>\n",
       "      <th>2015-01-09</th>\n",
       "      <td>6.984872</td>\n",
       "      <td>9.51</td>\n",
       "      <td>22.350000</td>\n",
       "    </tr>\n",
       "    <tr>\n",
       "      <th>2015-01-12</th>\n",
       "      <td>6.865727</td>\n",
       "      <td>8.84</td>\n",
       "      <td>22.639999</td>\n",
       "    </tr>\n",
       "    <tr>\n",
       "      <th>2015-01-13</th>\n",
       "      <td>6.888066</td>\n",
       "      <td>9.09</td>\n",
       "      <td>22.510000</td>\n",
       "    </tr>\n",
       "    <tr>\n",
       "      <th>2015-01-14</th>\n",
       "      <td>6.925299</td>\n",
       "      <td>8.91</td>\n",
       "      <td>20.700001</td>\n",
       "    </tr>\n",
       "    <tr>\n",
       "      <th>2015-01-15</th>\n",
       "      <td>6.910406</td>\n",
       "      <td>9.31</td>\n",
       "      <td>20.940001</td>\n",
       "    </tr>\n",
       "  </tbody>\n",
       "</table>\n",
       "</div>"
      ],
      "text/plain": [
       "            ITSA4.SA  PETR4.SA   VALE3.SA\n",
       "Date                                     \n",
       "2015-01-02  6.828494      9.36  21.280001\n",
       "2015-01-05  6.850834      8.56  20.959999\n",
       "2015-01-06  6.902959      8.28  21.799999\n",
       "2015-01-07  7.163589      8.67  22.600000\n",
       "2015-01-08  7.238055      9.23  22.840000\n",
       "2015-01-09  6.984872      9.51  22.350000\n",
       "2015-01-12  6.865727      8.84  22.639999\n",
       "2015-01-13  6.888066      9.09  22.510000\n",
       "2015-01-14  6.925299      8.91  20.700001\n",
       "2015-01-15  6.910406      9.31  20.940001"
      ]
     },
     "execution_count": 1,
     "metadata": {},
     "output_type": "execute_result"
    }
   ],
   "source": [
    "import pandas as pd\n",
    "import numpy as np\n",
    "\n",
    "prices = pd.read_csv(\"data/close.csv\").set_index(\"Date\")\n",
    "prices.index = pd.to_datetime(prices.index)\n",
    "prices.head(10)"
   ]
  },
  {
   "cell_type": "code",
   "execution_count": 2,
   "id": "0c347e79",
   "metadata": {},
   "outputs": [
    {
     "data": {
      "text/plain": [
       "<AxesSubplot:xlabel='Date'>"
      ]
     },
     "execution_count": 2,
     "metadata": {},
     "output_type": "execute_result"
    },
    {
     "data": {
      "image/png": "[encoded data removed]",
      "text/plain": [
       "<Figure size 432x288 with 1 Axes>"
      ]
     },
     "metadata": {
      "needs_background": "light"
     },
     "output_type": "display_data"
    }
   ],
   "source": [
    "prices.plot()"
   ]
  },
  {
   "cell_type": "code",
   "execution_count": 3,
   "id": "6db085c4",
   "metadata": {},
   "outputs": [
    {
     "data": {
      "text/html": [
       "<div>\n",
       "<style scoped>\n",
       "    .dataframe tbody tr th:only-of-type {\n",
       "        vertical-align: middle;\n",
       "    }\n",
       "\n",
       "    .dataframe tbody tr th {\n",
       "        vertical-align: top;\n",
       "    }\n",
       "\n",
       "    .dataframe thead th {\n",
       "        text-align: right;\n",
       "    }\n",
       "</style>\n",
       "<table border=\"1\" class=\"dataframe\">\n",
       "  <thead>\n",
       "    <tr style=\"text-align: right;\">\n",
       "      <th></th>\n",
       "      <th>ITSA4.SA</th>\n",
       "      <th>PETR4.SA</th>\n",
       "      <th>VALE3.SA</th>\n",
       "    </tr>\n",
       "    <tr>\n",
       "      <th>Date</th>\n",
       "      <th></th>\n",
       "      <th></th>\n",
       "      <th></th>\n",
       "    </tr>\n",
       "  </thead>\n",
       "  <tbody>\n",
       "    <tr>\n",
       "      <th>2015-01-05</th>\n",
       "      <td>0.003272</td>\n",
       "      <td>-0.085470</td>\n",
       "      <td>-0.015038</td>\n",
       "    </tr>\n",
       "    <tr>\n",
       "      <th>2015-01-06</th>\n",
       "      <td>0.007609</td>\n",
       "      <td>-0.032710</td>\n",
       "      <td>0.040076</td>\n",
       "    </tr>\n",
       "    <tr>\n",
       "      <th>2015-01-07</th>\n",
       "      <td>0.037756</td>\n",
       "      <td>0.047101</td>\n",
       "      <td>0.036697</td>\n",
       "    </tr>\n",
       "    <tr>\n",
       "      <th>2015-01-08</th>\n",
       "      <td>0.010395</td>\n",
       "      <td>0.064590</td>\n",
       "      <td>0.010619</td>\n",
       "    </tr>\n",
       "    <tr>\n",
       "      <th>2015-01-09</th>\n",
       "      <td>-0.034979</td>\n",
       "      <td>0.030336</td>\n",
       "      <td>-0.021454</td>\n",
       "    </tr>\n",
       "    <tr>\n",
       "      <th>2015-01-12</th>\n",
       "      <td>-0.017058</td>\n",
       "      <td>-0.070452</td>\n",
       "      <td>0.012975</td>\n",
       "    </tr>\n",
       "    <tr>\n",
       "      <th>2015-01-13</th>\n",
       "      <td>0.003254</td>\n",
       "      <td>0.028281</td>\n",
       "      <td>-0.005742</td>\n",
       "    </tr>\n",
       "    <tr>\n",
       "      <th>2015-01-14</th>\n",
       "      <td>0.005405</td>\n",
       "      <td>-0.019802</td>\n",
       "      <td>-0.080409</td>\n",
       "    </tr>\n",
       "    <tr>\n",
       "      <th>2015-01-15</th>\n",
       "      <td>-0.002151</td>\n",
       "      <td>0.044893</td>\n",
       "      <td>0.011594</td>\n",
       "    </tr>\n",
       "    <tr>\n",
       "      <th>2015-01-16</th>\n",
       "      <td>0.018319</td>\n",
       "      <td>0.013963</td>\n",
       "      <td>0.044890</td>\n",
       "    </tr>\n",
       "  </tbody>\n",
       "</table>\n",
       "</div>"
      ],
      "text/plain": [
       "            ITSA4.SA  PETR4.SA  VALE3.SA\n",
       "Date                                    \n",
       "2015-01-05  0.003272 -0.085470 -0.015038\n",
       "2015-01-06  0.007609 -0.032710  0.040076\n",
       "2015-01-07  0.037756  0.047101  0.036697\n",
       "2015-01-08  0.010395  0.064590  0.010619\n",
       "2015-01-09 -0.034979  0.030336 -0.021454\n",
       "2015-01-12 -0.017058 -0.070452  0.012975\n",
       "2015-01-13  0.003254  0.028281 -0.005742\n",
       "2015-01-14  0.005405 -0.019802 -0.080409\n",
       "2015-01-15 -0.002151  0.044893  0.011594\n",
       "2015-01-16  0.018319  0.013963  0.044890"
      ]
     },
     "execution_count": 3,
     "metadata": {},
     "output_type": "execute_result"
    }
   ],
   "source": [
    "# Daily Returns\n",
    "\n",
    "returns = (prices/(prices.shift(1)) - 1).dropna()\n",
    "returns.head(10)"
   ]
  },
  {
   "cell_type": "code",
   "execution_count": 4,
   "id": "5921f93c",
   "metadata": {},
   "outputs": [
    {
     "data": {
      "text/html": [
       "<div>\n",
       "<style scoped>\n",
       "    .dataframe tbody tr th:only-of-type {\n",
       "        vertical-align: middle;\n",
       "    }\n",
       "\n",
       "    .dataframe tbody tr th {\n",
       "        vertical-align: top;\n",
       "    }\n",
       "\n",
       "    .dataframe thead th {\n",
       "        text-align: right;\n",
       "    }\n",
       "</style>\n",
       "<table border=\"1\" class=\"dataframe\">\n",
       "  <thead>\n",
       "    <tr style=\"text-align: right;\">\n",
       "      <th></th>\n",
       "      <th>ITSA4.SA</th>\n",
       "      <th>PETR4.SA</th>\n",
       "      <th>VALE3.SA</th>\n",
       "    </tr>\n",
       "    <tr>\n",
       "      <th>Date</th>\n",
       "      <th></th>\n",
       "      <th></th>\n",
       "      <th></th>\n",
       "    </tr>\n",
       "  </thead>\n",
       "  <tbody>\n",
       "    <tr>\n",
       "      <th>2015-01-02</th>\n",
       "      <td>NaN</td>\n",
       "      <td>NaN</td>\n",
       "      <td>NaN</td>\n",
       "    </tr>\n",
       "    <tr>\n",
       "      <th>2015-01-05</th>\n",
       "      <td>0.003272</td>\n",
       "      <td>-0.085470</td>\n",
       "      <td>-0.015038</td>\n",
       "    </tr>\n",
       "    <tr>\n",
       "      <th>2015-01-06</th>\n",
       "      <td>0.007609</td>\n",
       "      <td>-0.032710</td>\n",
       "      <td>0.040076</td>\n",
       "    </tr>\n",
       "    <tr>\n",
       "      <th>2015-01-07</th>\n",
       "      <td>0.037756</td>\n",
       "      <td>0.047101</td>\n",
       "      <td>0.036697</td>\n",
       "    </tr>\n",
       "    <tr>\n",
       "      <th>2015-01-08</th>\n",
       "      <td>0.010395</td>\n",
       "      <td>0.064590</td>\n",
       "      <td>0.010619</td>\n",
       "    </tr>\n",
       "    <tr>\n",
       "      <th>2015-01-09</th>\n",
       "      <td>-0.034979</td>\n",
       "      <td>0.030336</td>\n",
       "      <td>-0.021454</td>\n",
       "    </tr>\n",
       "    <tr>\n",
       "      <th>2015-01-12</th>\n",
       "      <td>-0.017058</td>\n",
       "      <td>-0.070452</td>\n",
       "      <td>0.012975</td>\n",
       "    </tr>\n",
       "    <tr>\n",
       "      <th>2015-01-13</th>\n",
       "      <td>0.003254</td>\n",
       "      <td>0.028281</td>\n",
       "      <td>-0.005742</td>\n",
       "    </tr>\n",
       "    <tr>\n",
       "      <th>2015-01-14</th>\n",
       "      <td>0.005405</td>\n",
       "      <td>-0.019802</td>\n",
       "      <td>-0.080409</td>\n",
       "    </tr>\n",
       "    <tr>\n",
       "      <th>2015-01-15</th>\n",
       "      <td>-0.002151</td>\n",
       "      <td>0.044893</td>\n",
       "      <td>0.011594</td>\n",
       "    </tr>\n",
       "  </tbody>\n",
       "</table>\n",
       "</div>"
      ],
      "text/plain": [
       "            ITSA4.SA  PETR4.SA  VALE3.SA\n",
       "Date                                    \n",
       "2015-01-02       NaN       NaN       NaN\n",
       "2015-01-05  0.003272 -0.085470 -0.015038\n",
       "2015-01-06  0.007609 -0.032710  0.040076\n",
       "2015-01-07  0.037756  0.047101  0.036697\n",
       "2015-01-08  0.010395  0.064590  0.010619\n",
       "2015-01-09 -0.034979  0.030336 -0.021454\n",
       "2015-01-12 -0.017058 -0.070452  0.012975\n",
       "2015-01-13  0.003254  0.028281 -0.005742\n",
       "2015-01-14  0.005405 -0.019802 -0.080409\n",
       "2015-01-15 -0.002151  0.044893  0.011594"
      ]
     },
     "execution_count": 4,
     "metadata": {},
     "output_type": "execute_result"
    }
   ],
   "source": [
    "returns = prices.pct_change()\n",
    "returns.head(10)"
   ]
  },
  {
   "cell_type": "code",
   "execution_count": 5,
   "id": "f3b85d43",
   "metadata": {},
   "outputs": [
    {
     "data": {
      "text/plain": [
       "ITSA4.SA    0.020432\n",
       "PETR4.SA    0.033722\n",
       "VALE3.SA    0.031636\n",
       "dtype: float64"
      ]
     },
     "execution_count": 5,
     "metadata": {},
     "output_type": "execute_result"
    }
   ],
   "source": [
    "returns.std()"
   ]
  },
  {
   "cell_type": "code",
   "execution_count": 6,
   "id": "3f38495a",
   "metadata": {},
   "outputs": [
    {
     "data": {
      "text/plain": [
       "ITSA4.SA    0.000573\n",
       "PETR4.SA    0.001322\n",
       "VALE3.SA    0.001452\n",
       "dtype: float64"
      ]
     },
     "execution_count": 6,
     "metadata": {},
     "output_type": "execute_result"
    }
   ],
   "source": [
    "returns.mean()"
   ]
  },
  {
   "cell_type": "code",
   "execution_count": 7,
   "id": "d1d1b19d",
   "metadata": {},
   "outputs": [
    {
     "data": {
      "text/html": [
       "<div>\n",
       "<style scoped>\n",
       "    .dataframe tbody tr th:only-of-type {\n",
       "        vertical-align: middle;\n",
       "    }\n",
       "\n",
       "    .dataframe tbody tr th {\n",
       "        vertical-align: top;\n",
       "    }\n",
       "\n",
       "    .dataframe thead th {\n",
       "        text-align: right;\n",
       "    }\n",
       "</style>\n",
       "<table border=\"1\" class=\"dataframe\">\n",
       "  <thead>\n",
       "    <tr style=\"text-align: right;\">\n",
       "      <th></th>\n",
       "      <th>ITSA4.SA</th>\n",
       "      <th>PETR4.SA</th>\n",
       "      <th>VALE3.SA</th>\n",
       "    </tr>\n",
       "    <tr>\n",
       "      <th>Date</th>\n",
       "      <th></th>\n",
       "      <th></th>\n",
       "      <th></th>\n",
       "    </tr>\n",
       "  </thead>\n",
       "  <tbody>\n",
       "    <tr>\n",
       "      <th>2015-01-05</th>\n",
       "      <td>0.003272</td>\n",
       "      <td>-0.085470</td>\n",
       "      <td>-0.015038</td>\n",
       "    </tr>\n",
       "    <tr>\n",
       "      <th>2015-01-06</th>\n",
       "      <td>0.007609</td>\n",
       "      <td>-0.032710</td>\n",
       "      <td>0.040076</td>\n",
       "    </tr>\n",
       "    <tr>\n",
       "      <th>2015-01-07</th>\n",
       "      <td>0.037756</td>\n",
       "      <td>0.047101</td>\n",
       "      <td>0.036697</td>\n",
       "    </tr>\n",
       "    <tr>\n",
       "      <th>2015-01-08</th>\n",
       "      <td>0.010395</td>\n",
       "      <td>0.064590</td>\n",
       "      <td>0.010619</td>\n",
       "    </tr>\n",
       "    <tr>\n",
       "      <th>2015-01-09</th>\n",
       "      <td>-0.034979</td>\n",
       "      <td>0.030336</td>\n",
       "      <td>-0.021454</td>\n",
       "    </tr>\n",
       "    <tr>\n",
       "      <th>...</th>\n",
       "      <td>...</td>\n",
       "      <td>...</td>\n",
       "      <td>...</td>\n",
       "    </tr>\n",
       "    <tr>\n",
       "      <th>2015-12-22</th>\n",
       "      <td>0.004274</td>\n",
       "      <td>0.022590</td>\n",
       "      <td>0.021155</td>\n",
       "    </tr>\n",
       "    <tr>\n",
       "      <th>2015-12-23</th>\n",
       "      <td>-0.007092</td>\n",
       "      <td>0.020619</td>\n",
       "      <td>0.053386</td>\n",
       "    </tr>\n",
       "    <tr>\n",
       "      <th>2015-12-28</th>\n",
       "      <td>-0.002857</td>\n",
       "      <td>-0.033189</td>\n",
       "      <td>-0.043873</td>\n",
       "    </tr>\n",
       "    <tr>\n",
       "      <th>2015-12-29</th>\n",
       "      <td>0.000000</td>\n",
       "      <td>-0.001493</td>\n",
       "      <td>0.006329</td>\n",
       "    </tr>\n",
       "    <tr>\n",
       "      <th>2015-12-30</th>\n",
       "      <td>-0.014327</td>\n",
       "      <td>0.001495</td>\n",
       "      <td>0.024371</td>\n",
       "    </tr>\n",
       "  </tbody>\n",
       "</table>\n",
       "<p>245 rows × 3 columns</p>\n",
       "</div>"
      ],
      "text/plain": [
       "            ITSA4.SA  PETR4.SA  VALE3.SA\n",
       "Date                                    \n",
       "2015-01-05  0.003272 -0.085470 -0.015038\n",
       "2015-01-06  0.007609 -0.032710  0.040076\n",
       "2015-01-07  0.037756  0.047101  0.036697\n",
       "2015-01-08  0.010395  0.064590  0.010619\n",
       "2015-01-09 -0.034979  0.030336 -0.021454\n",
       "...              ...       ...       ...\n",
       "2015-12-22  0.004274  0.022590  0.021155\n",
       "2015-12-23 -0.007092  0.020619  0.053386\n",
       "2015-12-28 -0.002857 -0.033189 -0.043873\n",
       "2015-12-29  0.000000 -0.001493  0.006329\n",
       "2015-12-30 -0.014327  0.001495  0.024371\n",
       "\n",
       "[245 rows x 3 columns]"
      ]
     },
     "execution_count": 7,
     "metadata": {},
     "output_type": "execute_result"
    }
   ],
   "source": [
    "start_date = pd.to_datetime(\"2015-01-05\")\n",
    "end_date = pd.to_datetime(\"2015-12-31\")\n",
    "period_mask = (returns.index >= start_date) & (returns.index <= end_date)\n",
    "period_returns = returns[period_mask]\n",
    "period_returns"
   ]
  },
  {
   "cell_type": "code",
   "execution_count": 8,
   "id": "94e4a13a",
   "metadata": {},
   "outputs": [
    {
     "data": {
      "text/html": [
       "<div>\n",
       "<style scoped>\n",
       "    .dataframe tbody tr th:only-of-type {\n",
       "        vertical-align: middle;\n",
       "    }\n",
       "\n",
       "    .dataframe tbody tr th {\n",
       "        vertical-align: top;\n",
       "    }\n",
       "\n",
       "    .dataframe thead th {\n",
       "        text-align: right;\n",
       "    }\n",
       "</style>\n",
       "<table border=\"1\" class=\"dataframe\">\n",
       "  <thead>\n",
       "    <tr style=\"text-align: right;\">\n",
       "      <th></th>\n",
       "      <th>ITSA4.SA</th>\n",
       "      <th>PETR4.SA</th>\n",
       "      <th>VALE3.SA</th>\n",
       "    </tr>\n",
       "    <tr>\n",
       "      <th>Date</th>\n",
       "      <th></th>\n",
       "      <th></th>\n",
       "      <th></th>\n",
       "    </tr>\n",
       "  </thead>\n",
       "  <tbody>\n",
       "    <tr>\n",
       "      <th>2015-01-05</th>\n",
       "      <td>0.003272</td>\n",
       "      <td>-0.085470</td>\n",
       "      <td>-0.015038</td>\n",
       "    </tr>\n",
       "    <tr>\n",
       "      <th>2015-01-06</th>\n",
       "      <td>0.010905</td>\n",
       "      <td>-0.115385</td>\n",
       "      <td>0.024436</td>\n",
       "    </tr>\n",
       "    <tr>\n",
       "      <th>2015-01-07</th>\n",
       "      <td>0.049073</td>\n",
       "      <td>-0.073718</td>\n",
       "      <td>0.062030</td>\n",
       "    </tr>\n",
       "    <tr>\n",
       "      <th>2015-01-08</th>\n",
       "      <td>0.059978</td>\n",
       "      <td>-0.013889</td>\n",
       "      <td>0.073308</td>\n",
       "    </tr>\n",
       "    <tr>\n",
       "      <th>2015-01-09</th>\n",
       "      <td>0.022901</td>\n",
       "      <td>0.016026</td>\n",
       "      <td>0.050282</td>\n",
       "    </tr>\n",
       "    <tr>\n",
       "      <th>...</th>\n",
       "      <td>...</td>\n",
       "      <td>...</td>\n",
       "      <td>...</td>\n",
       "    </tr>\n",
       "    <tr>\n",
       "      <th>2015-12-22</th>\n",
       "      <td>-0.152354</td>\n",
       "      <td>-0.274573</td>\n",
       "      <td>-0.410244</td>\n",
       "    </tr>\n",
       "    <tr>\n",
       "      <th>2015-12-23</th>\n",
       "      <td>-0.158366</td>\n",
       "      <td>-0.259615</td>\n",
       "      <td>-0.378759</td>\n",
       "    </tr>\n",
       "    <tr>\n",
       "      <th>2015-12-28</th>\n",
       "      <td>-0.160770</td>\n",
       "      <td>-0.284188</td>\n",
       "      <td>-0.406015</td>\n",
       "    </tr>\n",
       "    <tr>\n",
       "      <th>2015-12-29</th>\n",
       "      <td>-0.160770</td>\n",
       "      <td>-0.285256</td>\n",
       "      <td>-0.402256</td>\n",
       "    </tr>\n",
       "    <tr>\n",
       "      <th>2015-12-30</th>\n",
       "      <td>-0.172794</td>\n",
       "      <td>-0.284188</td>\n",
       "      <td>-0.387688</td>\n",
       "    </tr>\n",
       "  </tbody>\n",
       "</table>\n",
       "<p>245 rows × 3 columns</p>\n",
       "</div>"
      ],
      "text/plain": [
       "            ITSA4.SA  PETR4.SA  VALE3.SA\n",
       "Date                                    \n",
       "2015-01-05  0.003272 -0.085470 -0.015038\n",
       "2015-01-06  0.010905 -0.115385  0.024436\n",
       "2015-01-07  0.049073 -0.073718  0.062030\n",
       "2015-01-08  0.059978 -0.013889  0.073308\n",
       "2015-01-09  0.022901  0.016026  0.050282\n",
       "...              ...       ...       ...\n",
       "2015-12-22 -0.152354 -0.274573 -0.410244\n",
       "2015-12-23 -0.158366 -0.259615 -0.378759\n",
       "2015-12-28 -0.160770 -0.284188 -0.406015\n",
       "2015-12-29 -0.160770 -0.285256 -0.402256\n",
       "2015-12-30 -0.172794 -0.284188 -0.387688\n",
       "\n",
       "[245 rows x 3 columns]"
      ]
     },
     "execution_count": 8,
     "metadata": {},
     "output_type": "execute_result"
    }
   ],
   "source": [
    "cumulative_returns = period_returns.add(1).cumprod().sub(1)\n",
    "cumulative_returns"
   ]
  },
  {
   "cell_type": "code",
   "execution_count": 9,
   "id": "f9a0434b",
   "metadata": {},
   "outputs": [
    {
     "data": {
      "text/plain": [
       "ITSA4.SA   -0.172794\n",
       "PETR4.SA   -0.284188\n",
       "VALE3.SA   -0.387688\n",
       "dtype: float64"
      ]
     },
     "execution_count": 9,
     "metadata": {},
     "output_type": "execute_result"
    }
   ],
   "source": [
    "total_return = (period_returns + 1).prod() - 1\n",
    "total_return"
   ]
  },
  {
   "cell_type": "code",
   "execution_count": 10,
   "id": "8e4fa46a",
   "metadata": {},
   "outputs": [
    {
     "data": {
      "text/html": [
       "<div>\n",
       "<style scoped>\n",
       "    .dataframe tbody tr th:only-of-type {\n",
       "        vertical-align: middle;\n",
       "    }\n",
       "\n",
       "    .dataframe tbody tr th {\n",
       "        vertical-align: top;\n",
       "    }\n",
       "\n",
       "    .dataframe thead th {\n",
       "        text-align: right;\n",
       "    }\n",
       "</style>\n",
       "<table border=\"1\" class=\"dataframe\">\n",
       "  <thead>\n",
       "    <tr style=\"text-align: right;\">\n",
       "      <th></th>\n",
       "      <th>ITSA4.SA</th>\n",
       "      <th>PETR4.SA</th>\n",
       "      <th>VALE3.SA</th>\n",
       "    </tr>\n",
       "    <tr>\n",
       "      <th>Date</th>\n",
       "      <th></th>\n",
       "      <th></th>\n",
       "      <th></th>\n",
       "    </tr>\n",
       "  </thead>\n",
       "  <tbody>\n",
       "    <tr>\n",
       "      <th>2015-12-30</th>\n",
       "      <td>-0.172794</td>\n",
       "      <td>-0.284188</td>\n",
       "      <td>-0.387688</td>\n",
       "    </tr>\n",
       "  </tbody>\n",
       "</table>\n",
       "</div>"
      ],
      "text/plain": [
       "            ITSA4.SA  PETR4.SA  VALE3.SA\n",
       "Date                                    \n",
       "2015-12-30 -0.172794 -0.284188 -0.387688"
      ]
     },
     "execution_count": 10,
     "metadata": {},
     "output_type": "execute_result"
    }
   ],
   "source": [
    "total_return = cumulative_returns.tail(1)\n",
    "total_return"
   ]
  },
  {
   "cell_type": "code",
   "execution_count": 11,
   "id": "d090aa2f",
   "metadata": {},
   "outputs": [
    {
     "data": {
      "text/plain": [
       "<AxesSubplot:xlabel='Date'>"
      ]
     },
     "execution_count": 11,
     "metadata": {},
     "output_type": "execute_result"
    },
    {
     "data": {
      "image/png": "[encoded data removed]",
      "text/plain": [
       "<Figure size 432x288 with 1 Axes>"
      ]
     },
     "metadata": {
      "needs_background": "light"
     },
     "output_type": "display_data"
    }
   ],
   "source": [
    "cumulative_returns.plot()"
   ]
  },
  {
   "cell_type": "markdown",
   "id": "97d53ba9",
   "metadata": {},
   "source": [
    "# Annualized Returns\n",
    "\n",
    "To annualize a return for a period, you compound the return for as many times as there are periods in a year. For instance, to annualize a monthly return you compund that return 12 times. The formula to annualize a monthly return $R_m$ is:\n",
    "\n",
    "$$ (1+R_m)^{12} - 1$$\n",
    "\n",
    "To annualize a quarterly return $R_q$ you would get:\n",
    "\n",
    "$$ (1+R_q)^{4} - 1$$\n",
    "\n",
    "To annualize a daily return $R_d$ you would get:\n",
    "\n",
    "$$ (1+R_d)^{252} - 1$$\n",
    "\n",
    "To annualize a cumulative daily return with $R_p$ as the cumulative return over the period and $p$ the number of days:\n",
    "\n",
    "$$ (1+R_p)^{252/p} - 1$$"
   ]
  },
  {
   "cell_type": "code",
   "execution_count": 12,
   "id": "540c06b9",
   "metadata": {},
   "outputs": [
    {
     "data": {
      "text/plain": [
       "0.29840670516253787"
      ]
     },
     "execution_count": 12,
     "metadata": {},
     "output_type": "execute_result"
    }
   ],
   "source": [
    "monthly_ret = 0.022\n",
    "annualized_return = (1+monthly_ret)**12 - 1\n",
    "annualized_return"
   ]
  },
  {
   "cell_type": "code",
   "execution_count": 13,
   "id": "d6368ff2",
   "metadata": {},
   "outputs": [
    {
     "data": {
      "text/html": [
       "<div>\n",
       "<style scoped>\n",
       "    .dataframe tbody tr th:only-of-type {\n",
       "        vertical-align: middle;\n",
       "    }\n",
       "\n",
       "    .dataframe tbody tr th {\n",
       "        vertical-align: top;\n",
       "    }\n",
       "\n",
       "    .dataframe thead th {\n",
       "        text-align: right;\n",
       "    }\n",
       "</style>\n",
       "<table border=\"1\" class=\"dataframe\">\n",
       "  <thead>\n",
       "    <tr style=\"text-align: right;\">\n",
       "      <th></th>\n",
       "      <th>ITSA4.SA</th>\n",
       "      <th>PETR4.SA</th>\n",
       "      <th>VALE3.SA</th>\n",
       "    </tr>\n",
       "    <tr>\n",
       "      <th>Date</th>\n",
       "      <th></th>\n",
       "      <th></th>\n",
       "      <th></th>\n",
       "    </tr>\n",
       "  </thead>\n",
       "  <tbody>\n",
       "    <tr>\n",
       "      <th>2015-12-30</th>\n",
       "      <td>-0.177265</td>\n",
       "      <td>-0.290993</td>\n",
       "      <td>-0.396209</td>\n",
       "    </tr>\n",
       "  </tbody>\n",
       "</table>\n",
       "</div>"
      ],
      "text/plain": [
       "            ITSA4.SA  PETR4.SA  VALE3.SA\n",
       "Date                                    \n",
       "2015-12-30 -0.177265 -0.290993 -0.396209"
      ]
     },
     "execution_count": 13,
     "metadata": {},
     "output_type": "execute_result"
    }
   ],
   "source": [
    "total_return = cumulative_returns.tail(1)\n",
    "days = cumulative_returns.shape[0]\n",
    "annualized_return = (1 + total_return)**(252/days) - 1\n",
    "annualized_return\n"
   ]
  },
  {
   "cell_type": "code",
   "execution_count": null,
   "id": "2d464cc9",
   "metadata": {},
   "outputs": [],
   "source": []
  }
 ],
 "metadata": {
  "kernelspec": {
   "display_name": "portfolio-management",
   "language": "python",
   "name": "portfolio-management"
  },
  "language_info": {
   "codemirror_mode": {
    "name": "ipython",
    "version": 3
   },
   "file_extension": ".py",
   "mimetype": "text/x-python",
   "name": "python",
   "nbconvert_exporter": "python",
   "pygments_lexer": "ipython3",
   "version": "3.8.11"
  }
 },
 "nbformat": 4,
 "nbformat_minor": 5
}
