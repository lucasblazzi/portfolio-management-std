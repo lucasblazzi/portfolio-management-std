{
 "cells": [
  {
   "cell_type": "code",
   "execution_count": 1,
   "id": "61d1c3c8",
   "metadata": {},
   "outputs": [],
   "source": [
    "%load_ext autoreload\n",
    "%autoreload 2\n",
    "%config Completer.use_jedi = False\n",
    "\n",
    "import pandas as pd\n",
    "import risk_kit as rk\n",
    "import numpy as np"
   ]
  },
  {
   "cell_type": "code",
   "execution_count": 8,
   "id": "e3bc9c18",
   "metadata": {},
   "outputs": [
    {
     "data": {
      "text/plain": [
       "Food     0.116799\n",
       "Beer     0.141126\n",
       "Smoke    0.107830\n",
       "Games    0.068212\n",
       "Books    0.187286\n",
       "Hshld    0.134766\n",
       "Clths    0.079160\n",
       "Hlth     0.246641\n",
       "Chems    0.077456\n",
       "Txtls   -0.042721\n",
       "Cnstr    0.084076\n",
       "Steel    0.115809\n",
       "FabPr    0.108280\n",
       "ElcEq    0.272420\n",
       "Autos    0.080954\n",
       "Carry    0.173904\n",
       "Mines   -0.053554\n",
       "Coal     0.414689\n",
       "Oil      0.165377\n",
       "Util     0.145903\n",
       "Telcm    0.122771\n",
       "Servs    0.175264\n",
       "BusEq    0.271952\n",
       "Paper    0.097163\n",
       "Trans    0.071099\n",
       "Whlsl    0.126431\n",
       "Rtail    0.207247\n",
       "Meals    0.067400\n",
       "Fin      0.223371\n",
       "Other    0.043349\n",
       "dtype: float64"
      ]
     },
     "execution_count": 8,
     "metadata": {},
     "output_type": "execute_result"
    }
   ],
   "source": [
    "ind = rk.get_ind_returns()\n",
    "er = rk.annualize_rets(ind[\"1996\":\"2000\"], 12)\n",
    "cov = ind[\"1996\":\"2000\"].cov()\n",
    "er"
   ]
  },
  {
   "cell_type": "code",
   "execution_count": 3,
   "id": "21c1666b",
   "metadata": {},
   "outputs": [],
   "source": [
    "from scipy.optimize import minimize\n",
    "\n",
    "def portfolio_return(weights, rets):\n",
    "    return weights.T @ rets\n",
    "\n",
    "def portfolio_volatility(weights, covmat):\n",
    "    return (weights.T @ covmat @ weights) ** 0.5\n",
    "\n",
    "def optimal_weights(n_points, er, cov):\n",
    "    target_rets = np.linspace(er.min(), er.max(), n_points)\n",
    "    weights = [minimize_vol(target_ret, er, cov) for target_ret in target_rets]\n",
    "    return weights\n",
    "\n",
    "def minimize_vol(target_ret, er, cov):\n",
    "    n_assets = er.shape[0]\n",
    "    init_guess = np.repeat(1/n_assets, n_assets)\n",
    "    bounds = ((0.0, 1.0),) * n_assets\n",
    "    \n",
    "    is_target_return = { \n",
    "        \"type\": \"eq\",\n",
    "        \"args\": (er, ),\n",
    "        \"fun\": lambda weights, er: target_ret - portfolio_return(weights, er)\n",
    "    }\n",
    "    full_allocated = {\n",
    "        \"type\": \"eq\",\n",
    "        \"fun\": lambda weights: np.sum(weights) - 1\n",
    "    }\n",
    "    \n",
    "    results = minimize(portfolio_volatility, init_guess,\n",
    "                      args=(cov, ), method=\"SLSQP\",\n",
    "                      options={\"disp\": False},\n",
    "                      constraints=(is_target_return, full_allocated),\n",
    "                      bounds=bounds)\n",
    "    return results.x\n",
    "\n",
    "def efficient_frontier(er, cov, n_points):\n",
    "    weights = optimal_weights(n_points, er, cov)\n",
    "    rets = [portfolio_return(w, er) for w in weights]\n",
    "    vols = [portfolio_volatility(w, cov) for w in weights]\n",
    "    return pd.DataFrame({\"Returns\": rets, \"Volatility\": vols})"
   ]
  },
  {
   "cell_type": "code",
   "execution_count": 4,
   "id": "133b2d4f",
   "metadata": {},
   "outputs": [
    {
     "data": {
      "text/plain": [
       "0.056163669406706564"
      ]
     },
     "execution_count": 4,
     "metadata": {},
     "output_type": "execute_result"
    }
   ],
   "source": [
    "l = [\"Games\", \"Fin\"]\n",
    "w15 = minimize_vol(0.15, er[l], cov.loc[l, l])\n",
    "vol15 = portfolio_volatility(w15, cov.loc[l, l])\n",
    "vol15"
   ]
  },
  {
   "cell_type": "code",
   "execution_count": 5,
   "id": "31d0ef45",
   "metadata": {},
   "outputs": [
    {
     "data": {
      "text/plain": [
       "array([0.47287631, 0.52712369])"
      ]
     },
     "execution_count": 5,
     "metadata": {},
     "output_type": "execute_result"
    }
   ],
   "source": [
    "w15        # 0.47 on asset1 and 0.52 on asset2 results on the minimun volatility for 15% return"
   ]
  },
  {
   "cell_type": "code",
   "execution_count": 6,
   "id": "f482796d",
   "metadata": {},
   "outputs": [
    {
     "data": {
      "text/plain": [
       "<AxesSubplot:xlabel='Volatility', ylabel='Returns'>"
      ]
     },
     "execution_count": 6,
     "metadata": {},
     "output_type": "execute_result"
    },
    {
     "data": {
      "image/png": "[encoded data removed]",
      "text/plain": [
       "<Figure size 432x288 with 1 Axes>"
      ]
     },
     "metadata": {
      "needs_background": "light"
     },
     "output_type": "display_data"
    }
   ],
   "source": [
    "assets = [\"Food\", \"Beer\", \"Fin\", \"Hlth\", \"Games\", \"Smoke\"]\n",
    "ef = efficient_frontier(er[assets], cov.loc[assets, assets], 50)\n",
    "ef.plot.scatter(x=\"Volatility\", y=\"Returns\")"
   ]
  },
  {
   "cell_type": "code",
   "execution_count": 7,
   "id": "968198f7",
   "metadata": {},
   "outputs": [
    {
     "data": {
      "text/plain": [
       "<AxesSubplot:xlabel='Volatility'>"
      ]
     },
     "execution_count": 7,
     "metadata": {},
     "output_type": "execute_result"
    },
    {
     "data": {
      "image/png": "[encoded data removed]",
      "text/plain": [
       "<Figure size 432x288 with 1 Axes>"
      ]
     },
     "metadata": {
      "needs_background": "light"
     },
     "output_type": "display_data"
    }
   ],
   "source": [
    "ef.plot.line(x=\"Volatility\", y=\"Returns\")"
   ]
  },
  {
   "cell_type": "code",
   "execution_count": 60,
   "id": "29e44212",
   "metadata": {},
   "outputs": [
    {
     "data": {
      "text/plain": [
       "<AxesSubplot:xlabel='Volatility'>"
      ]
     },
     "execution_count": 60,
     "metadata": {},
     "output_type": "execute_result"
    },
    {
     "data": {
      "image/png": "[encoded data removed]",
      "text/plain": [
       "<Figure size 432x288 with 1 Axes>"
      ]
     },
     "metadata": {
      "needs_background": "light"
     },
     "output_type": "display_data"
    }
   ],
   "source": [
    "ef.plot.line(x=\"Volatility\", y=\"Returns\", style=\".-\")"
   ]
  }
 ],
 "metadata": {
  "kernelspec": {
   "display_name": "portfolio-management",
   "language": "python",
   "name": "portfolio-management"
  },
  "language_info": {
   "codemirror_mode": {
    "name": "ipython",
    "version": 3
   },
   "file_extension": ".py",
   "mimetype": "text/x-python",
   "name": "python",
   "nbconvert_exporter": "python",
   "pygments_lexer": "ipython3",
   "version": "3.8.11"
  }
 },
 "nbformat": 4,
 "nbformat_minor": 5
}
