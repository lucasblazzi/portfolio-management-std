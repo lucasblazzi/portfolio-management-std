{
 "cells": [
  {
   "cell_type": "markdown",
   "id": "42d81a06",
   "metadata": {},
   "source": [
    "## GMV - Global Minimum Variance Portfolio\n",
    "\n",
    "- Markowitz analyse of estimation based on expected return can be noisy and not reliable\n",
    "- GMV\n",
    "    - No expected return parameter is needed\n",
    "    - Minimize variance"
   ]
  },
  {
   "cell_type": "code",
   "execution_count": 1,
   "id": "524e7a0c",
   "metadata": {},
   "outputs": [],
   "source": [
    "%load_ext autoreload\n",
    "%autoreload 2\n",
    "%config Completer.use_jedi = False\n",
    "\n",
    "import pandas as pd\n",
    "import risk_kit as rk\n",
    "import numpy as np"
   ]
  },
  {
   "cell_type": "code",
   "execution_count": 2,
   "id": "c5eee194",
   "metadata": {},
   "outputs": [
    {
     "data": {
      "text/plain": [
       "array([0.75040362, 0.24959638])"
      ]
     },
     "execution_count": 2,
     "metadata": {},
     "output_type": "execute_result"
    }
   ],
   "source": [
    "ind = rk.get_ind_returns()\n",
    "er = rk.annualize_rets(ind[\"1996\":\"2000\"], 12)\n",
    "cov = ind[\"1996\":\"2000\"].cov()\n",
    "l = [\"Food\", \"Steel\"]\n",
    "rk.msr(0.1, er[l], cov.loc[l,l])"
   ]
  },
  {
   "cell_type": "code",
   "execution_count": 3,
   "id": "c10a58c3",
   "metadata": {},
   "outputs": [
    {
     "data": {
      "text/plain": [
       "Food     0.116799\n",
       "Steel    0.115809\n",
       "dtype: float64"
      ]
     },
     "execution_count": 3,
     "metadata": {},
     "output_type": "execute_result"
    }
   ],
   "source": [
    "er[l]"
   ]
  },
  {
   "cell_type": "code",
   "execution_count": 5,
   "id": "c24bc0b4",
   "metadata": {},
   "outputs": [
    {
     "data": {
      "text/plain": [
       "array([0.57930354, 0.42069646])"
      ]
     },
     "execution_count": 5,
     "metadata": {},
     "output_type": "execute_result"
    }
   ],
   "source": [
    "# estimating simliar expected returns to see how it behaves\n",
    "rk.msr(0.1, np.array([.11, .12]), cov.loc[l,l])\n",
    "# a small change on expected returns causes a dramatic change on portfolio weights"
   ]
  },
  {
   "cell_type": "code",
   "execution_count": 7,
   "id": "0cbebc40",
   "metadata": {},
   "outputs": [
    {
     "data": {
      "text/plain": [
       "array([0., 1.])"
      ]
     },
     "execution_count": 7,
     "metadata": {},
     "output_type": "execute_result"
    }
   ],
   "source": [
    "rk.msr(0.1, np.array([.10, .13]), cov.loc[l,l])"
   ]
  },
  {
   "cell_type": "code",
   "execution_count": 8,
   "id": "872332d7",
   "metadata": {},
   "outputs": [
    {
     "data": {
      "text/plain": [
       "array([1., 0.])"
      ]
     },
     "execution_count": 8,
     "metadata": {},
     "output_type": "execute_result"
    }
   ],
   "source": [
    "rk.msr(0.1, np.array([.13, .10]), cov.loc[l,l])"
   ]
  },
  {
   "cell_type": "code",
   "execution_count": 9,
   "id": "b65aa16c",
   "metadata": {},
   "outputs": [
    {
     "name": "stdout",
     "output_type": "stream",
     "text": [
      "cml weights:  [3.03063076e-15 2.52737597e-15 6.56416298e-15 0.00000000e+00\n",
      " 5.98774842e-15 1.23698402e-15 0.00000000e+00 4.55961480e-01\n",
      " 0.00000000e+00 0.00000000e+00 0.00000000e+00 0.00000000e+00\n",
      " 0.00000000e+00 2.33810837e-01 0.00000000e+00 3.36468644e-15\n",
      " 0.00000000e+00 1.38704164e-01 5.74005331e-15 8.94091659e-02\n",
      " 0.00000000e+00 0.00000000e+00 1.55177057e-02 0.00000000e+00\n",
      " 0.00000000e+00 1.59142391e-15 6.65966476e-02 0.00000000e+00\n",
      " 2.55483897e-15 0.00000000e+00]\n"
     ]
    },
    {
     "data": {
      "text/plain": [
       "<AxesSubplot:xlabel='Volatility'>"
      ]
     },
     "execution_count": 9,
     "metadata": {},
     "output_type": "execute_result"
    },
    {
     "data": {
      "image/png": "[encoded data removed]",
      "text/plain": [
       "<Figure size 432x288 with 1 Axes>"
      ]
     },
     "metadata": {
      "needs_background": "light"
     },
     "output_type": "display_data"
    }
   ],
   "source": [
    "rk.plot_ef(20, er, cov, show_cml=True, riskfree_rate=0.1)"
   ]
  },
  {
   "cell_type": "markdown",
   "id": "763b970f",
   "metadata": {},
   "source": [
    "### Global Minimum Variance (GMV) + Equally Weighted Portfolio (EW)"
   ]
  },
  {
   "cell_type": "code",
   "execution_count": 11,
   "id": "a25d0d66",
   "metadata": {},
   "outputs": [],
   "source": [
    "def gmv(cov):\n",
    "    # \"min vol when returns are the same\"\n",
    "    # call msr with equal returns \n",
    "    n = cov.shape[0]\n",
    "    return msr(0, np(1, n), cov)\n",
    "\n",
    "def plot_ef(n_points, er, cov, style='.-', legend=False, show_cml=False, riskfree_rate=0, show_ew=False, show_gmv=False):\n",
    "    \"\"\"\n",
    "    Plots the multi-asset efficient frontier\n",
    "    \"\"\"\n",
    "    weights = optimal_weights(n_points, er, cov)\n",
    "    rets = [portfolio_return(w, er) for w in weights]\n",
    "    vols = [portfolio_vol(w, cov) for w in weights]\n",
    "    ef = pd.DataFrame({\n",
    "        \"Returns\": rets, \n",
    "        \"Volatility\": vols\n",
    "    })\n",
    "    ax = ef.plot.line(x=\"Volatility\", y=\"Returns\", style=style, legend=legend)\n",
    "    if show_cml:\n",
    "        ax.set_xlim(left = 0)\n",
    "        # get MSR\n",
    "        w_msr = msr(riskfree_rate, er, cov)\n",
    "        print(\"cml weights: \", w_msr)\n",
    "        r_msr = portfolio_return(w_msr, er)\n",
    "        vol_msr = portfolio_vol(w_msr, cov)\n",
    "        # add CML\n",
    "        cml_x = [0, vol_msr]\n",
    "        cml_y = [riskfree_rate, r_msr]\n",
    "        ax.plot(cml_x, cml_y, color='green', marker='o', linestyle='dashed', linewidth=2, markersize=10)\n",
    "    if show_ew:\n",
    "        n = er.shape[0]\n",
    "        w_ew = np.repeat(1/n, n)\n",
    "        print(\"ew weights: \", w_ew)\n",
    "        r_ew = portfolio_return(w_ew, er)\n",
    "        vol_ew = portfolio_vol(w_ew, cov)\n",
    "        # add EW\n",
    "        ax.plot([vol_ew], [r_ew], color='goldenrod', marker='o', markersize=10)\n",
    "    if show_gmv:\n",
    "        w_gmv = gmv(cov)\n",
    "        print(\"gmv weights: \", w_gmv)\n",
    "        r_gmv = portfolio_return(w_gmv, er)\n",
    "        vol_gmv = portfolio_vol(w_gmv, cov)\n",
    "        # add EW\n",
    "        ax.plot([vol_gmv], [r_gmv], color='midnightblue', marker='o', markersize=10)\n",
    "        \n",
    "    return ax"
   ]
  },
  {
   "cell_type": "code",
   "execution_count": 13,
   "id": "a0cf8530",
   "metadata": {},
   "outputs": [
    {
     "name": "stdout",
     "output_type": "stream",
     "text": [
      "cml weights:  [3.03063076e-15 2.52737597e-15 6.56416298e-15 0.00000000e+00\n",
      " 5.98774842e-15 1.23698402e-15 0.00000000e+00 4.55961480e-01\n",
      " 0.00000000e+00 0.00000000e+00 0.00000000e+00 0.00000000e+00\n",
      " 0.00000000e+00 2.33810837e-01 0.00000000e+00 3.36468644e-15\n",
      " 0.00000000e+00 1.38704164e-01 5.74005331e-15 8.94091659e-02\n",
      " 0.00000000e+00 0.00000000e+00 1.55177057e-02 0.00000000e+00\n",
      " 0.00000000e+00 1.59142391e-15 6.65966476e-02 0.00000000e+00\n",
      " 2.55483897e-15 0.00000000e+00]\n",
      "ew weights:  [0.03333333 0.03333333 0.03333333 0.03333333 0.03333333 0.03333333\n",
      " 0.03333333 0.03333333 0.03333333 0.03333333 0.03333333 0.03333333\n",
      " 0.03333333 0.03333333 0.03333333 0.03333333 0.03333333 0.03333333\n",
      " 0.03333333 0.03333333 0.03333333 0.03333333 0.03333333 0.03333333\n",
      " 0.03333333 0.03333333 0.03333333 0.03333333 0.03333333 0.03333333]\n",
      "gmv weights:  [3.13254280e-02 6.12453782e-13 8.37378880e-03 2.38181830e-03\n",
      " 2.18497192e-14 7.82312929e-02 1.00947475e-12 6.48765333e-02\n",
      " 5.09033793e-14 5.09793046e-15 1.36965019e-12 8.24805741e-15\n",
      " 6.11178653e-15 9.70475340e-13 9.38135333e-13 7.83211907e-13\n",
      " 3.64392437e-14 1.14488198e-14 2.78107633e-14 4.82924053e-01\n",
      " 3.15167076e-02 1.16527708e-13 1.01321299e-01 3.95841345e-14\n",
      " 1.63605562e-13 1.61396437e-13 8.38588721e-02 1.15190207e-01\n",
      " 2.42824291e-12 1.33101610e-12]\n"
     ]
    },
    {
     "data": {
      "text/plain": [
       "<AxesSubplot:xlabel='Volatility'>"
      ]
     },
     "execution_count": 13,
     "metadata": {},
     "output_type": "execute_result"
    },
    {
     "data": {
      "image/png": "[encoded data removed]",
      "text/plain": [
       "<Figure size 432x288 with 1 Axes>"
      ]
     },
     "metadata": {
      "needs_background": "light"
     },
     "output_type": "display_data"
    }
   ],
   "source": [
    "rk.plot_ef(20, er, cov, show_cml=True, riskfree_rate=0.1, show_ew=True, show_gmv=True)"
   ]
  },
  {
   "cell_type": "code",
   "execution_count": null,
   "id": "873f9283",
   "metadata": {},
   "outputs": [],
   "source": []
  }
 ],
 "metadata": {
  "kernelspec": {
   "display_name": "portfolio-management",
   "language": "python",
   "name": "portfolio-management"
  },
  "language_info": {
   "codemirror_mode": {
    "name": "ipython",
    "version": 3
   },
   "file_extension": ".py",
   "mimetype": "text/x-python",
   "name": "python",
   "nbconvert_exporter": "python",
   "pygments_lexer": "ipython3",
   "version": "3.8.11"
  }
 },
 "nbformat": 4,
 "nbformat_minor": 5
}
