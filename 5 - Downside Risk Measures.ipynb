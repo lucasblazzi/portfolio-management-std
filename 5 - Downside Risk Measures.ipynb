{
 "cells": [
  {
   "cell_type": "markdown",
   "id": "e9b6328c",
   "metadata": {},
   "source": [
    "### Semi-Deviation\n",
    "   - \"negative\" volatility\n",
    "\n",
    "\n",
    "### Value At Risk (VaR)\n",
    "   - Maximum expected loss at a given confidence level\n",
    "   \n",
    "        **1. historic var (non parametric)**\n",
    "         - based on historical returns\n",
    "         - discard worst outcomes (confidence level)\n",
    "         - dont make any assumption (backtest) - solely rely on historical data\n",
    "        **2. variance-covariance (parametric gaussian)**\n",
    "         - based on volatilities and correlations\n",
    "         - specific assumption on returns (parametric assumption -> ex: assume a gaussian distribution)\n",
    "         - problem: assuming normal distribution may understimate risk\n",
    "        **3. parametric non gaussian**\n",
    "         - reduce problem of risk understimation -> parametric but not using gaussian\n",
    "         - ex: define, pareto, looggama, frechet, student with alpha > 0 degress of freedom\n",
    "        **4. cornish-fisher (semi parametric)**\n",
    "         - cornish-fisher expansion to correct the z of alpha of a gaussian model\n",
    "\n",
    "\n",
    "\n",
    "### CVaR \n",
    "   - expected loss beyond var\n",
    "\n"
   ]
  },
  {
   "cell_type": "code",
   "execution_count": 9,
   "id": "3e0e3c39",
   "metadata": {},
   "outputs": [
    {
     "name": "stdout",
     "output_type": "stream",
     "text": [
      "The autoreload extension is already loaded. To reload it, use:\n",
      "  %reload_ext autoreload\n"
     ]
    }
   ],
   "source": [
    "%load_ext autoreload\n",
    "%autoreload 2\n",
    "\n",
    "import pandas as pd\n",
    "import risk_kit as rk\n",
    "import numpy as np"
   ]
  },
  {
   "cell_type": "code",
   "execution_count": 5,
   "id": "718931b5",
   "metadata": {},
   "outputs": [],
   "source": [
    "hfi = rk.get_hfi_returns()"
   ]
  },
  {
   "cell_type": "markdown",
   "id": "3f49917a",
   "metadata": {},
   "source": [
    "### Semideviation"
   ]
  },
  {
   "cell_type": "code",
   "execution_count": 6,
   "id": "df3d317e",
   "metadata": {},
   "outputs": [],
   "source": [
    "def semideviation(rets):\n",
    "    is_negative = rets < 0\n",
    "    return rets[is_negative].std(ddof=0)"
   ]
  },
  {
   "cell_type": "code",
   "execution_count": 7,
   "id": "b21f9f59",
   "metadata": {},
   "outputs": [
    {
     "data": {
      "text/plain": [
       "Convertible Arbitrage     0.019540\n",
       "CTA Global                0.012443\n",
       "Distressed Securities     0.015185\n",
       "Emerging Markets          0.028039\n",
       "Equity Market Neutral     0.009566\n",
       "Event Driven              0.015429\n",
       "Fixed Income Arbitrage    0.017763\n",
       "Global Macro              0.006579\n",
       "Long/Short Equity         0.014051\n",
       "Merger Arbitrage          0.008875\n",
       "Relative Value            0.012244\n",
       "Short Selling             0.027283\n",
       "Funds Of Funds            0.012122\n",
       "dtype: float64"
      ]
     },
     "execution_count": 7,
     "metadata": {},
     "output_type": "execute_result"
    }
   ],
   "source": [
    "semideviation(hfi)"
   ]
  },
  {
   "cell_type": "markdown",
   "id": "989dced5",
   "metadata": {},
   "source": [
    "### Historic VaR"
   ]
  },
  {
   "cell_type": "code",
   "execution_count": 11,
   "id": "3f9bd97e",
   "metadata": {},
   "outputs": [
    {
     "data": {
      "text/plain": [
       "array([-0.01576, -0.03169, -0.01966, -0.04247, -0.00814, -0.02535,\n",
       "       -0.00787, -0.01499, -0.02598, -0.01047, -0.01174, -0.06783,\n",
       "       -0.02047])"
      ]
     },
     "execution_count": 11,
     "metadata": {},
     "output_type": "execute_result"
    }
   ],
   "source": [
    "np.percentile(hfi, 5, axis=0)"
   ]
  },
  {
   "cell_type": "code",
   "execution_count": 37,
   "id": "7194e27f",
   "metadata": {},
   "outputs": [],
   "source": [
    "def var_historic(rets, level=5):\n",
    "    if isinstance(rets, pd.DataFrame):\n",
    "        return rets.aggregate(var_historic, level=level)\n",
    "    elif isinstance(rets, pd.Series):\n",
    "        return -np.percentile(rets, level)    # - because var already reference a loss\n",
    "    else:\n",
    "        raise TypeError(\"Expected DataFrame or Series\")"
   ]
  },
  {
   "cell_type": "code",
   "execution_count": 38,
   "id": "3ee709cb",
   "metadata": {},
   "outputs": [
    {
     "data": {
      "text/plain": [
       "Convertible Arbitrage     0.01576\n",
       "CTA Global                0.03169\n",
       "Distressed Securities     0.01966\n",
       "Emerging Markets          0.04247\n",
       "Equity Market Neutral     0.00814\n",
       "Event Driven              0.02535\n",
       "Fixed Income Arbitrage    0.00787\n",
       "Global Macro              0.01499\n",
       "Long/Short Equity         0.02598\n",
       "Merger Arbitrage          0.01047\n",
       "Relative Value            0.01174\n",
       "Short Selling             0.06783\n",
       "Funds Of Funds            0.02047\n",
       "dtype: float64"
      ]
     },
     "execution_count": 38,
     "metadata": {},
     "output_type": "execute_result"
    }
   ],
   "source": [
    "var_historic(hfi)"
   ]
  },
  {
   "cell_type": "markdown",
   "id": "86621395",
   "metadata": {},
   "source": [
    "### Gaussian VaR"
   ]
  },
  {
   "cell_type": "code",
   "execution_count": 44,
   "id": "1cf44fe1",
   "metadata": {},
   "outputs": [
    {
     "data": {
      "text/plain": [
       "-1.6448536269514729"
      ]
     },
     "execution_count": 44,
     "metadata": {},
     "output_type": "execute_result"
    }
   ],
   "source": [
    "from scipy.stats import norm\n",
    "\n",
    "z = norm.ppf(.05)   # z-score of a normal distribution on a confidence level -> how far from the mean\n",
    "z"
   ]
  },
  {
   "cell_type": "code",
   "execution_count": 45,
   "id": "deef820b",
   "metadata": {},
   "outputs": [
    {
     "data": {
      "text/plain": [
       "Convertible Arbitrage     0.021691\n",
       "CTA Global                0.034235\n",
       "Distressed Securities     0.021032\n",
       "Emerging Markets          0.047164\n",
       "Equity Market Neutral     0.008850\n",
       "Event Driven              0.021144\n",
       "Fixed Income Arbitrage    0.014579\n",
       "Global Macro              0.018766\n",
       "Long/Short Equity         0.026397\n",
       "Merger Arbitrage          0.010435\n",
       "Relative Value            0.013061\n",
       "Short Selling             0.080086\n",
       "Funds Of Funds            0.021292\n",
       "dtype: float64"
      ]
     },
     "execution_count": 45,
     "metadata": {},
     "output_type": "execute_result"
    }
   ],
   "source": [
    "-(hfi.mean() + z * hfi.std(ddof=0))   # var at a 5% level"
   ]
  },
  {
   "cell_type": "code",
   "execution_count": 46,
   "id": "b0d1658d",
   "metadata": {},
   "outputs": [],
   "source": [
    "def var_gaussian(rets, level=5):\n",
    "    z_score = norm.ppf(level/100)\n",
    "    return -(rets.mean() + z_score * rets.std(ddof=0))"
   ]
  },
  {
   "cell_type": "code",
   "execution_count": 47,
   "id": "a4f31b2c",
   "metadata": {},
   "outputs": [
    {
     "data": {
      "text/plain": [
       "Convertible Arbitrage     0.021691\n",
       "CTA Global                0.034235\n",
       "Distressed Securities     0.021032\n",
       "Emerging Markets          0.047164\n",
       "Equity Market Neutral     0.008850\n",
       "Event Driven              0.021144\n",
       "Fixed Income Arbitrage    0.014579\n",
       "Global Macro              0.018766\n",
       "Long/Short Equity         0.026397\n",
       "Merger Arbitrage          0.010435\n",
       "Relative Value            0.013061\n",
       "Short Selling             0.080086\n",
       "Funds Of Funds            0.021292\n",
       "dtype: float64"
      ]
     },
     "execution_count": 47,
     "metadata": {},
     "output_type": "execute_result"
    }
   ],
   "source": [
    "var_gaussian(hfi)"
   ]
  },
  {
   "cell_type": "markdown",
   "id": "8d53955f",
   "metadata": {},
   "source": [
    "### Cornish-Fisher VaR"
   ]
  },
  {
   "cell_type": "code",
   "execution_count": 60,
   "id": "891185e0",
   "metadata": {},
   "outputs": [],
   "source": [
    "def skewness(rets):\n",
    "    demeaned_rets = rets - rets.mean()\n",
    "    exp = (demeaned_rets ** 3).mean()\n",
    "    sigma_r = rets.std(ddof=0)     # population sdt (ddof=0)\n",
    "    return exp / sigma_r ** 3\n",
    "\n",
    "def kurtosis(rets):\n",
    "    demeaned_rets = rets - rets.mean()\n",
    "    exp = (demeaned_rets ** 4).mean()\n",
    "    sigma_r = rets.std(ddof=0)     # population sdt (ddof=0)\n",
    "    return exp / sigma_r ** 4\n",
    "\n",
    "def var_cornish_fisher(rets, level=5):\n",
    "    z = norm.ppf(level/100)\n",
    "    s = skewness(rets)\n",
    "    k = kurtosis(rets)\n",
    "    z = (z +\n",
    "            (z**2 - 1)*s/6 +\n",
    "            (z**3 -3*z)*(k-3)/24 -\n",
    "            (2*z**3 - 5*z)*(s**2)/36\n",
    "        )\n",
    "    return -(rets.mean() + z * rets.std(ddof=0))"
   ]
  },
  {
   "cell_type": "code",
   "execution_count": 61,
   "id": "973780ed",
   "metadata": {},
   "outputs": [
    {
     "data": {
      "text/plain": [
       "Convertible Arbitrage     0.025166\n",
       "CTA Global                0.033094\n",
       "Distressed Securities     0.025102\n",
       "Emerging Markets          0.053011\n",
       "Equity Market Neutral     0.010734\n",
       "Event Driven              0.025516\n",
       "Fixed Income Arbitrage    0.017881\n",
       "Global Macro              0.013581\n",
       "Long/Short Equity         0.027935\n",
       "Merger Arbitrage          0.012612\n",
       "Relative Value            0.016157\n",
       "Short Selling             0.066157\n",
       "Funds Of Funds            0.021576\n",
       "dtype: float64"
      ]
     },
     "execution_count": 61,
     "metadata": {},
     "output_type": "execute_result"
    }
   ],
   "source": [
    "var_cornish_fisher(hfi)"
   ]
  },
  {
   "cell_type": "code",
   "execution_count": 62,
   "id": "afce99af",
   "metadata": {},
   "outputs": [],
   "source": [
    "compare_list = [var_gaussian(hfi), var_cornish_fisher(hfi), var_historic(hfi)]"
   ]
  },
  {
   "cell_type": "code",
   "execution_count": 63,
   "id": "e9027a28",
   "metadata": {},
   "outputs": [
    {
     "data": {
      "text/html": [
       "<div>\n",
       "<style scoped>\n",
       "    .dataframe tbody tr th:only-of-type {\n",
       "        vertical-align: middle;\n",
       "    }\n",
       "\n",
       "    .dataframe tbody tr th {\n",
       "        vertical-align: top;\n",
       "    }\n",
       "\n",
       "    .dataframe thead th {\n",
       "        text-align: right;\n",
       "    }\n",
       "</style>\n",
       "<table border=\"1\" class=\"dataframe\">\n",
       "  <thead>\n",
       "    <tr style=\"text-align: right;\">\n",
       "      <th></th>\n",
       "      <th>Gaussian</th>\n",
       "      <th>Cornish Fisher</th>\n",
       "      <th>Historic</th>\n",
       "    </tr>\n",
       "  </thead>\n",
       "  <tbody>\n",
       "    <tr>\n",
       "      <th>Convertible Arbitrage</th>\n",
       "      <td>0.021691</td>\n",
       "      <td>0.025166</td>\n",
       "      <td>0.01576</td>\n",
       "    </tr>\n",
       "    <tr>\n",
       "      <th>CTA Global</th>\n",
       "      <td>0.034235</td>\n",
       "      <td>0.033094</td>\n",
       "      <td>0.03169</td>\n",
       "    </tr>\n",
       "    <tr>\n",
       "      <th>Distressed Securities</th>\n",
       "      <td>0.021032</td>\n",
       "      <td>0.025102</td>\n",
       "      <td>0.01966</td>\n",
       "    </tr>\n",
       "    <tr>\n",
       "      <th>Emerging Markets</th>\n",
       "      <td>0.047164</td>\n",
       "      <td>0.053011</td>\n",
       "      <td>0.04247</td>\n",
       "    </tr>\n",
       "    <tr>\n",
       "      <th>Equity Market Neutral</th>\n",
       "      <td>0.008850</td>\n",
       "      <td>0.010734</td>\n",
       "      <td>0.00814</td>\n",
       "    </tr>\n",
       "    <tr>\n",
       "      <th>Event Driven</th>\n",
       "      <td>0.021144</td>\n",
       "      <td>0.025516</td>\n",
       "      <td>0.02535</td>\n",
       "    </tr>\n",
       "    <tr>\n",
       "      <th>Fixed Income Arbitrage</th>\n",
       "      <td>0.014579</td>\n",
       "      <td>0.017881</td>\n",
       "      <td>0.00787</td>\n",
       "    </tr>\n",
       "    <tr>\n",
       "      <th>Global Macro</th>\n",
       "      <td>0.018766</td>\n",
       "      <td>0.013581</td>\n",
       "      <td>0.01499</td>\n",
       "    </tr>\n",
       "    <tr>\n",
       "      <th>Long/Short Equity</th>\n",
       "      <td>0.026397</td>\n",
       "      <td>0.027935</td>\n",
       "      <td>0.02598</td>\n",
       "    </tr>\n",
       "    <tr>\n",
       "      <th>Merger Arbitrage</th>\n",
       "      <td>0.010435</td>\n",
       "      <td>0.012612</td>\n",
       "      <td>0.01047</td>\n",
       "    </tr>\n",
       "    <tr>\n",
       "      <th>Relative Value</th>\n",
       "      <td>0.013061</td>\n",
       "      <td>0.016157</td>\n",
       "      <td>0.01174</td>\n",
       "    </tr>\n",
       "    <tr>\n",
       "      <th>Short Selling</th>\n",
       "      <td>0.080086</td>\n",
       "      <td>0.066157</td>\n",
       "      <td>0.06783</td>\n",
       "    </tr>\n",
       "    <tr>\n",
       "      <th>Funds Of Funds</th>\n",
       "      <td>0.021292</td>\n",
       "      <td>0.021576</td>\n",
       "      <td>0.02047</td>\n",
       "    </tr>\n",
       "  </tbody>\n",
       "</table>\n",
       "</div>"
      ],
      "text/plain": [
       "                        Gaussian  Cornish Fisher  Historic\n",
       "Convertible Arbitrage   0.021691        0.025166   0.01576\n",
       "CTA Global              0.034235        0.033094   0.03169\n",
       "Distressed Securities   0.021032        0.025102   0.01966\n",
       "Emerging Markets        0.047164        0.053011   0.04247\n",
       "Equity Market Neutral   0.008850        0.010734   0.00814\n",
       "Event Driven            0.021144        0.025516   0.02535\n",
       "Fixed Income Arbitrage  0.014579        0.017881   0.00787\n",
       "Global Macro            0.018766        0.013581   0.01499\n",
       "Long/Short Equity       0.026397        0.027935   0.02598\n",
       "Merger Arbitrage        0.010435        0.012612   0.01047\n",
       "Relative Value          0.013061        0.016157   0.01174\n",
       "Short Selling           0.080086        0.066157   0.06783\n",
       "Funds Of Funds          0.021292        0.021576   0.02047"
      ]
     },
     "execution_count": 63,
     "metadata": {},
     "output_type": "execute_result"
    }
   ],
   "source": [
    "comparison = pd.concat(compare_list, axis=1)\n",
    "comparison.columns = [\"Gaussian\", \"Cornish Fisher\", \"Historic\"]\n",
    "comparison"
   ]
  },
  {
   "cell_type": "code",
   "execution_count": 64,
   "id": "f9d4850b",
   "metadata": {},
   "outputs": [
    {
     "data": {
      "text/plain": [
       "<AxesSubplot:>"
      ]
     },
     "execution_count": 64,
     "metadata": {},
     "output_type": "execute_result"
    },
    {
     "data": {
      "image/png": "[encoded data removed]",
      "text/plain": [
       "<Figure size 432x288 with 1 Axes>"
      ]
     },
     "metadata": {
      "needs_background": "light"
     },
     "output_type": "display_data"
    }
   ],
   "source": [
    "comparison.plot.bar()"
   ]
  },
  {
   "cell_type": "markdown",
   "id": "6284bf3b",
   "metadata": {},
   "source": [
    "### CVaR"
   ]
  },
  {
   "cell_type": "code",
   "execution_count": 70,
   "id": "67bec904",
   "metadata": {},
   "outputs": [],
   "source": [
    "def cvar_historic(rets, level=5):\n",
    "    if isinstance(rets, pd.DataFrame):\n",
    "        return rets.aggregate(cvar_historic, level=level)\n",
    "    elif isinstance(rets, pd.Series):\n",
    "        is_beyond = rets <= -var_historic(rets, level=level) # returns that are less than historic var\n",
    "        return -rets[is_beyond].mean()    # - because var already reference a loss\n",
    "    else:\n",
    "        raise TypeError(\"Expected DataFrame or Series\")"
   ]
  },
  {
   "cell_type": "code",
   "execution_count": 71,
   "id": "c5fe12d2",
   "metadata": {},
   "outputs": [
    {
     "data": {
      "text/plain": [
       "Convertible Arbitrage     0.036550\n",
       "CTA Global                0.041264\n",
       "Distressed Securities     0.036429\n",
       "Emerging Markets          0.072364\n",
       "Equity Market Neutral     0.016879\n",
       "Event Driven              0.038336\n",
       "Fixed Income Arbitrage    0.028257\n",
       "Global Macro              0.020629\n",
       "Long/Short Equity         0.041943\n",
       "Merger Arbitrage          0.019143\n",
       "Relative Value            0.024650\n",
       "Short Selling             0.096821\n",
       "Funds Of Funds            0.033207\n",
       "dtype: float64"
      ]
     },
     "execution_count": 71,
     "metadata": {},
     "output_type": "execute_result"
    }
   ],
   "source": [
    "cvar_historic(hfi)"
   ]
  },
  {
   "cell_type": "code",
   "execution_count": null,
   "id": "36e1af90",
   "metadata": {},
   "outputs": [],
   "source": []
  }
 ],
 "metadata": {
  "kernelspec": {
   "display_name": "portfolio-management",
   "language": "python",
   "name": "portfolio-management"
  },
  "language_info": {
   "codemirror_mode": {
    "name": "ipython",
    "version": 3
   },
   "file_extension": ".py",
   "mimetype": "text/x-python",
   "name": "python",
   "nbconvert_exporter": "python",
   "pygments_lexer": "ipython3",
   "version": "3.8.11"
  }
 },
 "nbformat": 4,
 "nbformat_minor": 5
}
