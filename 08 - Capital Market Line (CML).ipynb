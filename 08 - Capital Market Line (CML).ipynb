{
 "cells": [
  {
   "cell_type": "markdown",
   "id": "d1fa09ae",
   "metadata": {},
   "source": [
    "## Maximum Sharpe Rate Portfolio (MSR)\n",
    "    No specific risk\n",
    "    Maximize the reward per unit of risk "
   ]
  },
  {
   "cell_type": "code",
   "execution_count": 15,
   "id": "61e51cea",
   "metadata": {},
   "outputs": [
    {
     "name": "stdout",
     "output_type": "stream",
     "text": [
      "The autoreload extension is already loaded. To reload it, use:\n",
      "  %reload_ext autoreload\n"
     ]
    }
   ],
   "source": [
    "%load_ext autoreload\n",
    "%autoreload 2\n",
    "%matplotlib inline\n",
    "%config Completer.use_jedi = False\n",
    "\n",
    "import pandas as pd\n",
    "import risk_kit as rk\n",
    "import numpy as np"
   ]
  },
  {
   "cell_type": "code",
   "execution_count": 16,
   "id": "11227da8",
   "metadata": {},
   "outputs": [],
   "source": [
    "ind = rk.get_ind_returns()\n",
    "er = rk.annualize_rets(ind[\"1996\":\"2000\"], 12)\n",
    "cov = ind[\"1996\":\"2000\"].cov()"
   ]
  },
  {
   "cell_type": "code",
   "execution_count": 17,
   "id": "a528b9f6",
   "metadata": {},
   "outputs": [],
   "source": [
    "from scipy.optimize import minimize\n",
    "\n",
    "def portfolio_return(weights, rets):\n",
    "    return weights.T @ rets\n",
    "\n",
    "def portfolio_volatility(weights, covmat):\n",
    "    return (weights.T @ covmat @ weights) ** 0.5\n",
    "\n",
    "def msr(risk_free_rate, er, cov):\n",
    "    n_assets = er.shape[0]\n",
    "    init_guess = np.repeat(1/n_assets, n_assets)\n",
    "    bounds = ((0.0, 1.0),) * n_assets\n",
    "\n",
    "    full_allocated = {\n",
    "        \"type\": \"eq\",\n",
    "        \"fun\": lambda weights: np.sum(weights) - 1\n",
    "    }\n",
    "    \n",
    "    def negative_sharpe(weights, risk_free_rate, er, cov):\n",
    "        r = portfolio_return(weights, er)\n",
    "        vol = portfolio_volatility(weights, cov)\n",
    "        return -(r - risk_free_rate)/vol\n",
    "    \n",
    "    results = minimize(negative_sharpe, init_guess, # minimize negative_shp --> maximize shp\n",
    "                  args=(risk_free_rate, er, cov, ), method=\"SLSQP\",\n",
    "                  options={\"disp\": False},\n",
    "                  constraints=(full_allocated),\n",
    "                  bounds=bounds)\n",
    "    return results.x\n"
   ]
  },
  {
   "cell_type": "code",
   "execution_count": 19,
   "id": "402d0999",
   "metadata": {},
   "outputs": [
    {
     "data": {
      "text/plain": [
       "[<matplotlib.lines.Line2D at 0x1eacba78a30>]"
      ]
     },
     "execution_count": 19,
     "metadata": {},
     "output_type": "execute_result"
    },
    {
     "data": {
      "image/png": "[encoded data removed]",
      "text/plain": [
       "<Figure size 432x288 with 1 Axes>"
      ]
     },
     "metadata": {
      "needs_background": "light"
     },
     "output_type": "display_data"
    }
   ],
   "source": [
    "# efficient frontier\n",
    "ax = rk.plot_ef(20, er, cov)\n",
    "ax.set_xlim(left=0)\n",
    "risk_free_rate = 0.1\n",
    "weights_msr = msr(risk_free_rate, er, cov)\n",
    "rets_msr = portfolio_return(weights_msr, er)\n",
    "vol_msr = portfolio_volatility(weights_msr, cov)\n",
    "\n",
    "# CAPITAL MARKET LINE\n",
    "cml_x = [0, vol_msr]\n",
    "cml_y = [risk_free_rate, rets_msr]\n",
    "ax.plot(cml_x, cml_y, color=\"green\", marker=\"o\", linestyle=\"dashed\")"
   ]
  },
  {
   "cell_type": "code",
   "execution_count": null,
   "id": "4ef7112f",
   "metadata": {},
   "outputs": [],
   "source": []
  },
  {
   "cell_type": "code",
   "execution_count": null,
   "id": "f5579056",
   "metadata": {},
   "outputs": [],
   "source": []
  }
 ],
 "metadata": {
  "kernelspec": {
   "display_name": "portfolio-management",
   "language": "python",
   "name": "portfolio-management"
  },
  "language_info": {
   "codemirror_mode": {
    "name": "ipython",
    "version": 3
   },
   "file_extension": ".py",
   "mimetype": "text/x-python",
   "name": "python",
   "nbconvert_exporter": "python",
   "pygments_lexer": "ipython3",
   "version": "3.8.11"
  }
 },
 "nbformat": 4,
 "nbformat_minor": 5
}
