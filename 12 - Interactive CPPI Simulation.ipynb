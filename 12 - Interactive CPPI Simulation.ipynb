{
 "cells": [
  {
   "cell_type": "code",
   "execution_count": 19,
   "id": "d45b0008",
   "metadata": {},
   "outputs": [
    {
     "data": {
      "application/vnd.jupyter.widget-view+json": {
       "model_id": "786f85fe9a174c168932ed20bbd19d87",
       "version_major": 2,
       "version_minor": 0
      },
      "text/plain": [
       "interactive(children=(IntSlider(value=50, description='n_scenarios', max=1000, min=1, step=5), FloatSlider(val…"
      ]
     },
     "metadata": {},
     "output_type": "display_data"
    }
   ],
   "source": [
    "import numpy as np\n",
    "import pandas as pd\n",
    "import ipywidgets as widgets\n",
    "from IPython.display import display\n",
    "import risk_kit as rk\n",
    "import matplotlib.pyplot as plt\n",
    "\n",
    "\n",
    "def show_cppi(n_scenarios=1000, mu=0.07, sigma=0.15, m=3, floor=0, riskfree_rate=0.03, y_max=100):\n",
    "    start = 100\n",
    "    sim_rets = rk.gbm(n_scenarios=n_scenarios, mu=mu, sigma=sigma, prices=False, steps_per_year=12)\n",
    "    risky_r = pd.DataFrame(sim_rets)\n",
    "    btr = rk.run_cppi(risky_r=pd.DataFrame(risky_r), riskfree_rate=riskfree_rate, m=m, start=start, floor=floor)\n",
    "    wealth = btr[\"Wealth\"]\n",
    "    \n",
    "    y_max = wealth.values.max() * y_max/100\n",
    "    terminal_wealth = wealth.iloc[-1]\n",
    "    \n",
    "    tw_mean = terminal_wealth.mean()\n",
    "    tw_median = terminal_wealth.median()\n",
    "    failure_mask = np.less(terminal_wealth, start*floor)\n",
    "    n_failures = failure_mask.sum()\n",
    "    p_fail = n_failures/n_scenarios\n",
    "    \n",
    "    e_shortfall = np.dot(terminal_wealth-start*floor, failure_mask)/n_failures if n_failures > 0 else 0\n",
    "    \n",
    "    fig, (wealth_ax, hist_ax)=plt.subplots(nrows=1, ncols=2, sharey=True, gridspec_kw={\"width_ratios\":[3,2]}, figsize=(24,9))\n",
    "    plt.subplots_adjust(wspace=0.0)\n",
    "    \n",
    "    wealth.plot(ax=wealth_ax, legend=False, color=\"indianred\", alpha=0.3)\n",
    "    wealth_ax.axhline(y=start, ls=\":\", color=\"black\")\n",
    "    wealth_ax.axhline(y=start*floor, ls=\"--\", color=\"red\")\n",
    "    wealth_ax.set_ylim(top=y_max)\n",
    "    \n",
    "    terminal_wealth.plot.hist(ax=hist_ax, bins=50, ec=\"w\", fc=\"indianred\", orientation=\"horizontal\")\n",
    "    hist_ax.axhline(y=start, ls=\":\", color=\"black\")\n",
    "    hist_ax.axhline(y=tw_mean, ls=\":\", color=\"blue\")\n",
    "    hist_ax.annotate(f\"Mean: ${int(tw_mean)}\", xy=(0.7, 0.9), xycoords=\"axes fraction\", fontsize=20)\n",
    "    hist_ax.annotate(f\"Median: ${int(tw_median)}\", xy=(0.7, 0.84), xycoords=\"axes fraction\", fontsize=20)\n",
    "    if floor > 0.01:\n",
    "        hist_ax.axhline(y=start*floor, ls=\":\", color=\"red\", linewidth=3)\n",
    "        hist_ax.annotate(f\"Violations: {n_failures} ({p_fail*100:2.2f}%)\\nE(shortfall)=${e_shortfall:2.2f}\", xy=(0.7, 0.7), xycoords=\"axes fraction\", fontsize=20)\n",
    "\n",
    "    \n",
    "cppi_controls = widgets.interactive(show_cppi,\n",
    "                                   n_scenarios=widgets.IntSlider(min=1, max=1000, step=5, value=50),\n",
    "                                   mu=(0, +0.2, 0.01),\n",
    "                                   sigma=(0, 0.5, 0.05),\n",
    "                                   floor=(0, 2, 0.1),\n",
    "                                   m=(1, 5, 0.5),\n",
    "                                   riskfree_rate=(0, 0.05, 0.01),\n",
    "                                   y_max=widgets.IntSlider(min=0, max=100, step=1, value=100, description=\"Zoom Y Axis\"))\n",
    "\n",
    "display(cppi_controls)\n"
   ]
  },
  {
   "cell_type": "code",
   "execution_count": null,
   "id": "3f94953d",
   "metadata": {},
   "outputs": [],
   "source": []
  }
 ],
 "metadata": {
  "kernelspec": {
   "display_name": "portfolio-management",
   "language": "python",
   "name": "portfolio-management"
  },
  "language_info": {
   "codemirror_mode": {
    "name": "ipython",
    "version": 3
   },
   "file_extension": ".py",
   "mimetype": "text/x-python",
   "name": "python",
   "nbconvert_exporter": "python",
   "pygments_lexer": "ipython3",
   "version": "3.8.11"
  }
 },
 "nbformat": 4,
 "nbformat_minor": 5
}
